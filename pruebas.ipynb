{
 "cells": [
  {
   "cell_type": "code",
   "execution_count": 10,
   "metadata": {},
   "outputs": [
    {
     "name": "stdout",
     "output_type": "stream",
     "text": [
      "=== GPU 0 (NVIDIA GeForce GTX 1660) ===\n",
      "  Load: 4.0%\n",
      "  Free Memory: 5.09 GB\n",
      "  Used Memory: 0.74 GB\n",
      "  Total Memory: 6.00 GB\n",
      "  Temperature: 43.0 °C\n",
      "====================\n",
      "=== RAM Usage ===\n",
      "Total RAM: 15.95 GB\n",
      "Available RAM: 6.31 GB\n",
      "Used RAM: 9.63 GB\n",
      "RAM Usage Percentage: 60.4%\n",
      "=================\n"
     ]
    }
   ],
   "source": [
    "%run imports\n",
    "from funciones import *\n",
    "from Recursos.monitor_resources import *\n",
    "\n",
    "print_gpu_usage()\n",
    "print_ram_usage()"
   ]
  },
  {
   "cell_type": "code",
   "execution_count": 11,
   "metadata": {},
   "outputs": [
    {
     "data": {
      "text/html": [
       "<div>\n",
       "<style scoped>\n",
       "    .dataframe tbody tr th:only-of-type {\n",
       "        vertical-align: middle;\n",
       "    }\n",
       "\n",
       "    .dataframe tbody tr th {\n",
       "        vertical-align: top;\n",
       "    }\n",
       "\n",
       "    .dataframe thead th {\n",
       "        text-align: right;\n",
       "    }\n",
       "</style>\n",
       "<table border=\"1\" class=\"dataframe\">\n",
       "  <thead>\n",
       "    <tr style=\"text-align: right;\">\n",
       "      <th></th>\n",
       "      <th>photo_id</th>\n",
       "      <th>business_id</th>\n",
       "      <th>caption</th>\n",
       "      <th>label</th>\n",
       "    </tr>\n",
       "  </thead>\n",
       "  <tbody>\n",
       "    <tr>\n",
       "      <th>0</th>\n",
       "      <td>zsvj7vloL4L5jhYyPIuVwg</td>\n",
       "      <td>Nk-SJhPlDBkAZvfsADtccA</td>\n",
       "      <td>Nice rock artwork everywhere and craploads of ...</td>\n",
       "      <td>inside</td>\n",
       "    </tr>\n",
       "    <tr>\n",
       "      <th>1</th>\n",
       "      <td>HCUdRJHHm_e0OCTlZetGLg</td>\n",
       "      <td>yVZtL5MmrpiivyCIrVkGgA</td>\n",
       "      <td>NaN</td>\n",
       "      <td>outside</td>\n",
       "    </tr>\n",
       "    <tr>\n",
       "      <th>2</th>\n",
       "      <td>vkr8T0scuJmGVvN2HJelEA</td>\n",
       "      <td>_ab50qdWOk0DdB6XOrBitw</td>\n",
       "      <td>oyster shooter</td>\n",
       "      <td>drink</td>\n",
       "    </tr>\n",
       "    <tr>\n",
       "      <th>3</th>\n",
       "      <td>pve7D6NUrafHW3EAORubyw</td>\n",
       "      <td>SZU9c8V2GuREDN5KgyHFJw</td>\n",
       "      <td>Shrimp scampi</td>\n",
       "      <td>food</td>\n",
       "    </tr>\n",
       "    <tr>\n",
       "      <th>4</th>\n",
       "      <td>H52Er-uBg6rNrHcReWTD2w</td>\n",
       "      <td>Gzur0f0XMkrVxIwYJvOt2g</td>\n",
       "      <td>NaN</td>\n",
       "      <td>food</td>\n",
       "    </tr>\n",
       "  </tbody>\n",
       "</table>\n",
       "</div>"
      ],
      "text/plain": [
       "                 photo_id             business_id  \\\n",
       "0  zsvj7vloL4L5jhYyPIuVwg  Nk-SJhPlDBkAZvfsADtccA   \n",
       "1  HCUdRJHHm_e0OCTlZetGLg  yVZtL5MmrpiivyCIrVkGgA   \n",
       "2  vkr8T0scuJmGVvN2HJelEA  _ab50qdWOk0DdB6XOrBitw   \n",
       "3  pve7D6NUrafHW3EAORubyw  SZU9c8V2GuREDN5KgyHFJw   \n",
       "4  H52Er-uBg6rNrHcReWTD2w  Gzur0f0XMkrVxIwYJvOt2g   \n",
       "\n",
       "                                             caption    label  \n",
       "0  Nice rock artwork everywhere and craploads of ...   inside  \n",
       "1                                                NaN  outside  \n",
       "2                                     oyster shooter    drink  \n",
       "3                                      Shrimp scampi     food  \n",
       "4                                                NaN     food  "
      ]
     },
     "execution_count": 11,
     "metadata": {},
     "output_type": "execute_result"
    }
   ],
   "source": [
    "df_valid = pd.read_csv(\"output/valid_photos.csv\")\n",
    "df_valid.head()"
   ]
  },
  {
   "cell_type": "code",
   "execution_count": 19,
   "metadata": {},
   "outputs": [
    {
     "name": "stdout",
     "output_type": "stream",
     "text": [
      "El tamaño del nuevo DataFrame es: 19000\n"
     ]
    },
    {
     "data": {
      "text/plain": [
       "label\n",
       "food       10267\n",
       "inside      5325\n",
       "outside     1765\n",
       "drink       1484\n",
       "menu         159\n",
       "Name: count, dtype: int64"
      ]
     },
     "execution_count": 19,
     "metadata": {},
     "output_type": "execute_result"
    }
   ],
   "source": [
    "df_reduced = dim_reduction(df_valid, 10)\n",
    "df_reduced[\"label\"].value_counts()"
   ]
  },
  {
   "cell_type": "code",
   "execution_count": 20,
   "metadata": {},
   "outputs": [
    {
     "name": "stderr",
     "output_type": "stream",
     "text": [
      "Processing Categories: 5it [00:26,  5.28s/it]\n"
     ]
    },
    {
     "data": {
      "text/plain": [
       "label\n",
       "inside     5325\n",
       "outside    2000\n",
       "drink      2000\n",
       "menu       2000\n",
       "food       2000\n",
       "Name: count, dtype: int64"
      ]
     },
     "execution_count": 20,
     "metadata": {},
     "output_type": "execute_result"
    }
   ],
   "source": [
    "# Definimos la secuencia de aumentación\n",
    "df_homogenized = homogenize_dataset(df_reduced, 2000) \n",
    "df_homogenized['label'].value_counts()"
   ]
  },
  {
   "cell_type": "code",
   "execution_count": 21,
   "metadata": {},
   "outputs": [],
   "source": [
    "df_homogenized.to_csv(\"output/df_homogenized.csv\", index=False) # creacion de csv "
   ]
  }
 ],
 "metadata": {
  "kernelspec": {
   "display_name": "Python 3",
   "language": "python",
   "name": "python3"
  },
  "language_info": {
   "codemirror_mode": {
    "name": "ipython",
    "version": 3
   },
   "file_extension": ".py",
   "mimetype": "text/x-python",
   "name": "python",
   "nbconvert_exporter": "python",
   "pygments_lexer": "ipython3",
   "version": "3.11.8"
  }
 },
 "nbformat": 4,
 "nbformat_minor": 2
}
