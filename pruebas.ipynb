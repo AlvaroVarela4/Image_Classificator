{
 "cells": [
  {
   "cell_type": "code",
   "execution_count": 5,
   "metadata": {},
   "outputs": [],
   "source": [
    "%run imports"
   ]
  },
  {
   "cell_type": "code",
   "execution_count": 6,
   "metadata": {},
   "outputs": [
    {
     "data": {
      "text/html": [
       "<div>\n",
       "<style scoped>\n",
       "    .dataframe tbody tr th:only-of-type {\n",
       "        vertical-align: middle;\n",
       "    }\n",
       "\n",
       "    .dataframe tbody tr th {\n",
       "        vertical-align: top;\n",
       "    }\n",
       "\n",
       "    .dataframe thead th {\n",
       "        text-align: right;\n",
       "    }\n",
       "</style>\n",
       "<table border=\"1\" class=\"dataframe\">\n",
       "  <thead>\n",
       "    <tr style=\"text-align: right;\">\n",
       "      <th></th>\n",
       "      <th>photo_id</th>\n",
       "      <th>business_id</th>\n",
       "      <th>caption</th>\n",
       "      <th>label</th>\n",
       "    </tr>\n",
       "  </thead>\n",
       "  <tbody>\n",
       "    <tr>\n",
       "      <th>0</th>\n",
       "      <td>zsvj7vloL4L5jhYyPIuVwg</td>\n",
       "      <td>Nk-SJhPlDBkAZvfsADtccA</td>\n",
       "      <td>Nice rock artwork everywhere and craploads of ...</td>\n",
       "      <td>inside</td>\n",
       "    </tr>\n",
       "    <tr>\n",
       "      <th>1</th>\n",
       "      <td>HCUdRJHHm_e0OCTlZetGLg</td>\n",
       "      <td>yVZtL5MmrpiivyCIrVkGgA</td>\n",
       "      <td>NaN</td>\n",
       "      <td>outside</td>\n",
       "    </tr>\n",
       "    <tr>\n",
       "      <th>2</th>\n",
       "      <td>vkr8T0scuJmGVvN2HJelEA</td>\n",
       "      <td>_ab50qdWOk0DdB6XOrBitw</td>\n",
       "      <td>oyster shooter</td>\n",
       "      <td>drink</td>\n",
       "    </tr>\n",
       "    <tr>\n",
       "      <th>3</th>\n",
       "      <td>pve7D6NUrafHW3EAORubyw</td>\n",
       "      <td>SZU9c8V2GuREDN5KgyHFJw</td>\n",
       "      <td>Shrimp scampi</td>\n",
       "      <td>food</td>\n",
       "    </tr>\n",
       "    <tr>\n",
       "      <th>4</th>\n",
       "      <td>H52Er-uBg6rNrHcReWTD2w</td>\n",
       "      <td>Gzur0f0XMkrVxIwYJvOt2g</td>\n",
       "      <td>NaN</td>\n",
       "      <td>food</td>\n",
       "    </tr>\n",
       "  </tbody>\n",
       "</table>\n",
       "</div>"
      ],
      "text/plain": [
       "                 photo_id             business_id  \\\n",
       "0  zsvj7vloL4L5jhYyPIuVwg  Nk-SJhPlDBkAZvfsADtccA   \n",
       "1  HCUdRJHHm_e0OCTlZetGLg  yVZtL5MmrpiivyCIrVkGgA   \n",
       "2  vkr8T0scuJmGVvN2HJelEA  _ab50qdWOk0DdB6XOrBitw   \n",
       "3  pve7D6NUrafHW3EAORubyw  SZU9c8V2GuREDN5KgyHFJw   \n",
       "4  H52Er-uBg6rNrHcReWTD2w  Gzur0f0XMkrVxIwYJvOt2g   \n",
       "\n",
       "                                             caption    label  \n",
       "0  Nice rock artwork everywhere and craploads of ...   inside  \n",
       "1                                                NaN  outside  \n",
       "2                                     oyster shooter    drink  \n",
       "3                                      Shrimp scampi     food  \n",
       "4                                                NaN     food  "
      ]
     },
     "execution_count": 6,
     "metadata": {},
     "output_type": "execute_result"
    }
   ],
   "source": [
    "df_valid = pd.read_csv(\"output/valid_photos.csv\")\n",
    "df_valid.head()"
   ]
  },
  {
   "cell_type": "code",
   "execution_count": 8,
   "metadata": {},
   "outputs": [
    {
     "name": "stdout",
     "output_type": "stream",
     "text": [
      "El tamaño del nuevo DataFrame es: 19000\n"
     ]
    }
   ],
   "source": [
    "dimension = len(df_valid) // 10\n",
    "df_reducido, _ = train_test_split(df_valid, train_size=dimension, stratify=df_valid[\"label\"], random_state=12)\n",
    "\n",
    "df_reducido.head()\n",
    "print(f\"El tamaño del nuevo DataFrame es: {len(df_reducido)}\")"
   ]
  },
  {
   "cell_type": "code",
   "execution_count": 9,
   "metadata": {},
   "outputs": [],
   "source": [
    "df_reducido.to_csv(\"prueba.csv\", index=False)"
   ]
  },
  {
   "cell_type": "code",
   "execution_count": 10,
   "metadata": {},
   "outputs": [
    {
     "data": {
      "text/plain": [
       "label\n",
       "food       10267\n",
       "inside      5325\n",
       "outside     1765\n",
       "drink       1484\n",
       "menu         159\n",
       "Name: count, dtype: int64"
      ]
     },
     "execution_count": 10,
     "metadata": {},
     "output_type": "execute_result"
    }
   ],
   "source": [
    "df_reducido['label'].value_counts()"
   ]
  },
  {
   "cell_type": "markdown",
   "metadata": {},
   "source": [
    "Este código realiza los siguientes pasos:\n",
    "\n",
    "1. Cuenta el número de imágenes en cada categoría.\n",
    "2. Define la secuencia de augmentación utilizando imgaug.\n",
    "3. Para cada categoría menos \"food\", calcula cuántas imágenes faltan para alcanzar el número objetivo (target_count).\n",
    "4. Realiza augmentación de las imágenes en esas categorías y guarda las nuevas imágenes con nombres únicos.\n",
    "5. Crea un nuevo dataframe con las imágenes aumentadas y combina este dataframe con el dataframe original.\n",
    "6. Verifica el balanceo de categorías."
   ]
  },
  {
   "cell_type": "code",
   "execution_count": 2,
   "metadata": {},
   "outputs": [],
   "source": [
    "import imgaug.augmenters as iaa\n",
    "import os\n",
    "import imageio.v3 as imageio\n",
    "import pandas as pd \n",
    "\n",
    "\n",
    "# Definir una secuencia de augmentación\n",
    "seq = iaa.Sequential([\n",
    "    iaa.Fliplr(0.5),   # Voltear horizontalmente el 50% de las imágenes\n",
    "    iaa.Crop(percent=(0, 0.1)),   # Recortar entre 0% a 10% de cada lado de la imagen\n",
    "    iaa.GaussianBlur(sigma=(0, 3.0))   # Aplicar desenfoque gaussiano con sigma entre 0 y 3.0\n",
    "])"
   ]
  },
  {
   "cell_type": "code",
   "execution_count": 11,
   "metadata": {},
   "outputs": [
    {
     "name": "stderr",
     "output_type": "stream",
     "text": [
      "Processing Categories: 5it [01:49, 21.95s/it]"
     ]
    },
    {
     "name": "stdout",
     "output_type": "stream",
     "text": [
      "label\n",
      "food       10267\n",
      "drink       5936\n",
      "inside      5325\n",
      "outside     5295\n",
      "menu        5088\n",
      "Name: count, dtype: int64\n"
     ]
    },
    {
     "name": "stderr",
     "output_type": "stream",
     "text": [
      "\n"
     ]
    }
   ],
   "source": [
    "# Contar el número de imágenes por categoría\n",
    "category_counts = df_reducido['label'].value_counts()\n",
    "\n",
    "# El número objetivo de imágenes por categoría (cota superior de homogeinizacion)\n",
    "target_count = int(5000)\n",
    "# Ruta donde están almacenadas las imágenes\n",
    "image_dir = 'photos'\n",
    "\n",
    "# Lista para almacenar las imágenes aumentadas\n",
    "augmented_images = []\n",
    "\n",
    "# Aumentar imágenes de cada categoría excepto 'food'\n",
    "for category, count in tqdm(category_counts.items(), desc='Processing Categories'):\n",
    "    if count < target_count:\n",
    "        images_to_augment = df_reducido[df_reducido['label'] == category]\n",
    "        num_augmentations = target_count - count\n",
    "        \n",
    "        for index, row in images_to_augment.iterrows():\n",
    "            image_path = os.path.join(image_dir, f\"{row['photo_id']}.jpg\")\n",
    "            image = imageio.imread(image_path)\n",
    "            \n",
    "            for i in range(num_augmentations // len(images_to_augment) + 1):\n",
    "                image_aug = seq(image=image)\n",
    "                augmented_image_path = os.path.join(image_dir, f\"aug_{row['photo_id'][0]}_{i}.jpg\")\n",
    "                imageio.imwrite(augmented_image_path, image_aug)\n",
    "                \n",
    "                augmented_images.append({'photo_id': f\"aug_{row['photo_id'][0]}_{i}\", 'label': category})\n",
    "\n",
    "# Crear un nuevo dataframe con las imágenes aumentadas\n",
    "df_augmented = pd.DataFrame(augmented_images)\n",
    "\n",
    "# Combinar el dataframe original con el dataframe de imágenes aumentadas\n",
    "df_balanced = pd.concat([df_reducido, df_augmented], ignore_index=True)\n",
    "\n",
    "# Verificar el balanceo de categorías\n",
    "print(df_balanced['label'].value_counts())"
   ]
  }
 ],
 "metadata": {
  "kernelspec": {
   "display_name": "Python 3",
   "language": "python",
   "name": "python3"
  },
  "language_info": {
   "codemirror_mode": {
    "name": "ipython",
    "version": 3
   },
   "file_extension": ".py",
   "mimetype": "text/x-python",
   "name": "python",
   "nbconvert_exporter": "python",
   "pygments_lexer": "ipython3",
   "version": "3.11.8"
  }
 },
 "nbformat": 4,
 "nbformat_minor": 2
}
