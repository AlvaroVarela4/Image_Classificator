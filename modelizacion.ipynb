{
 "cells": [
  {
   "cell_type": "markdown",
   "metadata": {},
   "source": [
    "# Fase de Modelización "
   ]
  },
  {
   "cell_type": "markdown",
   "metadata": {},
   "source": [
    "## Carga del modelo MovilNet"
   ]
  },
  {
   "cell_type": "markdown",
   "metadata": {},
   "source": [
    "En este primer punto vamos a cargar el modelo MovilNet para iniciar la fase de entrenamiento del modelo con los datos obtenidos en la fase de preanalisis y resolución. Luego probaremos una segunda parte con una CNN creada desde cero para contrastar resultados"
   ]
  },
  {
   "cell_type": "markdown",
   "metadata": {},
   "source": [
    "### 1. Importamos las librerias que necesitamos para instanciar el modelo "
   ]
  },
  {
   "cell_type": "code",
   "execution_count": 3,
   "metadata": {},
   "outputs": [
    {
     "data": {
      "application/javascript": "IPython.notebook.kernel.restart()",
      "text/plain": [
       "<IPython.core.display.Javascript object>"
      ]
     },
     "metadata": {},
     "output_type": "display_data"
    }
   ],
   "source": [
    "from IPython.display import display, Javascript\n",
    "\n",
    "display(Javascript('IPython.notebook.kernel.restart()'))"
   ]
  },
  {
   "cell_type": "code",
   "execution_count": 1,
   "metadata": {},
   "outputs": [],
   "source": [
    "%run imports.py\n",
    "from funciones import *"
   ]
  },
  {
   "cell_type": "code",
   "execution_count": 2,
   "metadata": {},
   "outputs": [
    {
     "data": {
      "text/plain": [
       "(7965, 4)"
      ]
     },
     "execution_count": 2,
     "metadata": {},
     "output_type": "execute_result"
    }
   ],
   "source": [
    "df_model = pd.read_csv(\"output\\model_photosv1.0.csv\")\n",
    "df_model.shape"
   ]
  },
  {
   "cell_type": "code",
   "execution_count": 6,
   "metadata": {},
   "outputs": [
    {
     "name": "stderr",
     "output_type": "stream",
     "text": [
      "Creando rutas: 100%|██████████| 7965/7965 [00:34<00:00, 232.91it/s]\n",
      "C:\\Users\\varel\\AppData\\Local\\Temp\\ipykernel_19536\\1239584283.py:2: SettingWithCopyWarning: \n",
      "A value is trying to be set on a copy of a slice from a DataFrame.\n",
      "Try using .loc[row_indexer,col_indexer] = value instead\n",
      "\n",
      "See the caveats in the documentation: https://pandas.pydata.org/pandas-docs/stable/user_guide/indexing.html#returning-a-view-versus-a-copy\n",
      "  df_model[\"path_files\"] = create_path(df_model)\n"
     ]
    },
    {
     "data": {
      "text/html": [
       "<div>\n",
       "<style scoped>\n",
       "    .dataframe tbody tr th:only-of-type {\n",
       "        vertical-align: middle;\n",
       "    }\n",
       "\n",
       "    .dataframe tbody tr th {\n",
       "        vertical-align: top;\n",
       "    }\n",
       "\n",
       "    .dataframe thead th {\n",
       "        text-align: right;\n",
       "    }\n",
       "</style>\n",
       "<table border=\"1\" class=\"dataframe\">\n",
       "  <thead>\n",
       "    <tr style=\"text-align: right;\">\n",
       "      <th></th>\n",
       "      <th>photo_id</th>\n",
       "      <th>label</th>\n",
       "      <th>path_files</th>\n",
       "    </tr>\n",
       "  </thead>\n",
       "  <tbody>\n",
       "    <tr>\n",
       "      <th>0</th>\n",
       "      <td>6LJa8QZOGBjt9maE5miLhw</td>\n",
       "      <td>menu</td>\n",
       "      <td>photos\\6LJa8QZOGBjt9maE5miLhw.jpg</td>\n",
       "    </tr>\n",
       "    <tr>\n",
       "      <th>1</th>\n",
       "      <td>T_QaBsquJlzAQd5bbCrLfA</td>\n",
       "      <td>outside</td>\n",
       "      <td>photos\\T_QaBsquJlzAQd5bbCrLfA.jpg</td>\n",
       "    </tr>\n",
       "    <tr>\n",
       "      <th>2</th>\n",
       "      <td>DtsfhqhqUB-tjs5XbwJfXw</td>\n",
       "      <td>menu</td>\n",
       "      <td>photos\\DtsfhqhqUB-tjs5XbwJfXw.jpg</td>\n",
       "    </tr>\n",
       "    <tr>\n",
       "      <th>3</th>\n",
       "      <td>Iehiw_bcHnXw-pg0w2M06w</td>\n",
       "      <td>drink</td>\n",
       "      <td>photos\\Iehiw_bcHnXw-pg0w2M06w.jpg</td>\n",
       "    </tr>\n",
       "    <tr>\n",
       "      <th>4</th>\n",
       "      <td>JClkivVTbSvCJAsdqtOa2g</td>\n",
       "      <td>inside</td>\n",
       "      <td>photos\\JClkivVTbSvCJAsdqtOa2g.jpg</td>\n",
       "    </tr>\n",
       "  </tbody>\n",
       "</table>\n",
       "</div>"
      ],
      "text/plain": [
       "                 photo_id    label                         path_files\n",
       "0  6LJa8QZOGBjt9maE5miLhw     menu  photos\\6LJa8QZOGBjt9maE5miLhw.jpg\n",
       "1  T_QaBsquJlzAQd5bbCrLfA  outside  photos\\T_QaBsquJlzAQd5bbCrLfA.jpg\n",
       "2  DtsfhqhqUB-tjs5XbwJfXw     menu  photos\\DtsfhqhqUB-tjs5XbwJfXw.jpg\n",
       "3  Iehiw_bcHnXw-pg0w2M06w    drink  photos\\Iehiw_bcHnXw-pg0w2M06w.jpg\n",
       "4  JClkivVTbSvCJAsdqtOa2g   inside  photos\\JClkivVTbSvCJAsdqtOa2g.jpg"
      ]
     },
     "execution_count": 6,
     "metadata": {},
     "output_type": "execute_result"
    }
   ],
   "source": [
    "df_model = df_model[[\"photo_id\", \"label\"]]\n",
    "df_model[\"path_files\"] = create_path(df_model)\n",
    "df_model.head()"
   ]
  },
  {
   "cell_type": "code",
   "execution_count": 8,
   "metadata": {},
   "outputs": [
    {
     "data": {
      "text/html": [
       "<div>\n",
       "<style scoped>\n",
       "    .dataframe tbody tr th:only-of-type {\n",
       "        vertical-align: middle;\n",
       "    }\n",
       "\n",
       "    .dataframe tbody tr th {\n",
       "        vertical-align: top;\n",
       "    }\n",
       "\n",
       "    .dataframe thead th {\n",
       "        text-align: right;\n",
       "    }\n",
       "</style>\n",
       "<table border=\"1\" class=\"dataframe\">\n",
       "  <thead>\n",
       "    <tr style=\"text-align: right;\">\n",
       "      <th></th>\n",
       "      <th>photo_id</th>\n",
       "      <th>path_files</th>\n",
       "      <th>label</th>\n",
       "    </tr>\n",
       "  </thead>\n",
       "  <tbody>\n",
       "    <tr>\n",
       "      <th>0</th>\n",
       "      <td>6LJa8QZOGBjt9maE5miLhw</td>\n",
       "      <td>photos\\6LJa8QZOGBjt9maE5miLhw.jpg</td>\n",
       "      <td>menu</td>\n",
       "    </tr>\n",
       "    <tr>\n",
       "      <th>1</th>\n",
       "      <td>T_QaBsquJlzAQd5bbCrLfA</td>\n",
       "      <td>photos\\T_QaBsquJlzAQd5bbCrLfA.jpg</td>\n",
       "      <td>outside</td>\n",
       "    </tr>\n",
       "    <tr>\n",
       "      <th>2</th>\n",
       "      <td>DtsfhqhqUB-tjs5XbwJfXw</td>\n",
       "      <td>photos\\DtsfhqhqUB-tjs5XbwJfXw.jpg</td>\n",
       "      <td>menu</td>\n",
       "    </tr>\n",
       "    <tr>\n",
       "      <th>3</th>\n",
       "      <td>Iehiw_bcHnXw-pg0w2M06w</td>\n",
       "      <td>photos\\Iehiw_bcHnXw-pg0w2M06w.jpg</td>\n",
       "      <td>drink</td>\n",
       "    </tr>\n",
       "    <tr>\n",
       "      <th>4</th>\n",
       "      <td>JClkivVTbSvCJAsdqtOa2g</td>\n",
       "      <td>photos\\JClkivVTbSvCJAsdqtOa2g.jpg</td>\n",
       "      <td>inside</td>\n",
       "    </tr>\n",
       "  </tbody>\n",
       "</table>\n",
       "</div>"
      ],
      "text/plain": [
       "                 photo_id                         path_files    label\n",
       "0  6LJa8QZOGBjt9maE5miLhw  photos\\6LJa8QZOGBjt9maE5miLhw.jpg     menu\n",
       "1  T_QaBsquJlzAQd5bbCrLfA  photos\\T_QaBsquJlzAQd5bbCrLfA.jpg  outside\n",
       "2  DtsfhqhqUB-tjs5XbwJfXw  photos\\DtsfhqhqUB-tjs5XbwJfXw.jpg     menu\n",
       "3  Iehiw_bcHnXw-pg0w2M06w  photos\\Iehiw_bcHnXw-pg0w2M06w.jpg    drink\n",
       "4  JClkivVTbSvCJAsdqtOa2g  photos\\JClkivVTbSvCJAsdqtOa2g.jpg   inside"
      ]
     },
     "execution_count": 8,
     "metadata": {},
     "output_type": "execute_result"
    }
   ],
   "source": [
    "df_model = df_model.reindex(columns=[\"photo_id\", \"path_files\", \"label\"])\n",
    "df_model.head()"
   ]
  },
  {
   "cell_type": "code",
   "execution_count": 10,
   "metadata": {},
   "outputs": [
    {
     "name": "stderr",
     "output_type": "stream",
     "text": [
      "Codificando imagenes: 7965it [01:08, 115.85it/s]\n"
     ]
    },
    {
     "name": "stdout",
     "output_type": "stream",
     "text": [
      "Shape of images: (7965, 244, 244, 3)\n",
      "Shape of labels encoded: (7965, 5)\n"
     ]
    }
   ],
   "source": [
    "# Cargado de Imagenes y Formateo a (n, 244, 244, 3)\n",
    "images, labels = image_label_load(df_model)\n",
    "\n",
    "# Codificar las etiquetas\n",
    "label_encoder = LabelEncoder()  # Instancia del encoder \n",
    "labels_encoded = label_encoder.fit_transform(labels)\n",
    "labels_encoded = to_categorical(labels_encoded, num_classes=5)  # Especificar 5 clases\n",
    " \n",
    "print(f\"Shape of images: {images.shape}\")\n",
    "print(f\"Shape of labels encoded: {labels_encoded.shape}\")\n"
   ]
  },
  {
   "cell_type": "code",
   "execution_count": 13,
   "metadata": {},
   "outputs": [
    {
     "name": "stderr",
     "output_type": "stream",
     "text": [
      "C:\\Users\\varel\\AppData\\Local\\Temp\\ipykernel_19536\\264039011.py:2: UserWarning: `input_shape` is undefined or non-square, or `rows` is not in [96, 128, 160, 192, 224]. Weights for input shape (224, 224) will be loaded as the default.\n",
      "  base_model = MobileNetV2(weights='imagenet', include_top=False, input_shape=(244,244,3))\n"
     ]
    }
   ],
   "source": [
    "# Carga del MobileNetV2\n",
    "base_model = MobileNetV2(weights='imagenet', include_top=False, input_shape=(244,244,3))\n",
    "\n",
    "# Congelar capas base del modelo -> Conserva los pesos establecidos por el aprendizaje de imagenet\n",
    "base_model.trainable = False \n",
    "\n",
    "#Añadimos capas superiores para ajustar el modelo a nuestro caso concreto: \n",
    "x = base_model.output \n",
    "x = GlobalAveragePooling2D()(x) \n",
    "x = Dense(128, activation='relu')(x) \n",
    "\n",
    "predictions = Dense(5, activation='softmax')(x) # Ajuste para 5 clases (menu, outside, drink, inside, food)\n",
    "\n",
    "# Instancia del MobileNetV2 + capas superiores \n",
    "model = Model(inputs=base_model.input, outputs=predictions)\n",
    "\n",
    "# Compilacion del modelo en conjunto: \n",
    "model.compile(optimizer ='adam', loss = 'categorical_crossentropy', metrics = ['accuracy'])\n",
    "\n",
    "model.save(\"Modelo_Base.keras\")"
   ]
  },
  {
   "cell_type": "code",
   "execution_count": 14,
   "metadata": {},
   "outputs": [],
   "source": [
    "# Train/Test split -> Division  de conjuntos de datos en entrenamiento y validacion \n",
    "X_train, X_test, y_train, y_test = train_test_split(images, labels_encoded, test_size=0.25, random_state=41)\n",
    "# Data Augmentation --> para ganar mas variedad de datos a la hora de entrenar \n",
    "\"\"\"\n",
    "    rotation_range=20,\n",
    "    width_shift_range=0.2,\n",
    "    height_shift_range=0.2,\n",
    "    shear_range=0.2,\n",
    "    zoom_range=0.2,\n",
    "    horizontal_flip=True,\n",
    "    fill_mode='nearest'\n",
    "\"\"\"\n",
    "                ### HIPER-PARAMETROS DE DATA AUGMENTATION PARA ENTRENAMIENTO ###\n",
    "datagen = ImageDataGenerator()\n",
    "# Ajustamos el generador de datos al conjunto de entrenamiento \n",
    "datagen.fit(X_train)"
   ]
  },
  {
   "cell_type": "code",
   "execution_count": 15,
   "metadata": {},
   "outputs": [
    {
     "name": "stdout",
     "output_type": "stream",
     "text": [
      "Epoch 1/10\n"
     ]
    },
    {
     "name": "stderr",
     "output_type": "stream",
     "text": [
      "c:\\Users\\varel\\AppData\\Local\\Programs\\Python\\Python311\\Lib\\site-packages\\keras\\src\\trainers\\data_adapters\\py_dataset_adapter.py:121: UserWarning: Your `PyDataset` class should call `super().__init__(**kwargs)` in its constructor. `**kwargs` can include `workers`, `use_multiprocessing`, `max_queue_size`. Do not pass these arguments to `fit()`, as they will be ignored.\n",
      "  self._warn_if_super_not_called()\n"
     ]
    },
    {
     "name": "stdout",
     "output_type": "stream",
     "text": [
      "\u001b[1m186/186\u001b[0m \u001b[32m━━━━━━━━━━━━━━━━━━━━\u001b[0m\u001b[37m\u001b[0m \u001b[1m399s\u001b[0m 2s/step - accuracy: 0.5779 - loss: 1.0748 - val_accuracy: 0.7234 - val_loss: 0.7315\n",
      "Epoch 2/10\n",
      "\u001b[1m  1/186\u001b[0m \u001b[37m━━━━━━━━━━━━━━━━━━━━\u001b[0m \u001b[1m4:28\u001b[0m 1s/step - accuracy: 0.5938 - loss: 0.8486"
     ]
    },
    {
     "name": "stderr",
     "output_type": "stream",
     "text": [
      "c:\\Users\\varel\\AppData\\Local\\Programs\\Python\\Python311\\Lib\\contextlib.py:158: UserWarning: Your input ran out of data; interrupting training. Make sure that your dataset or generator can generate at least `steps_per_epoch * epochs` batches. You may need to use the `.repeat()` function when building your dataset.\n",
      "  self.gen.throw(typ, value, traceback)\n"
     ]
    },
    {
     "name": "stdout",
     "output_type": "stream",
     "text": [
      "\u001b[1m186/186\u001b[0m \u001b[32m━━━━━━━━━━━━━━━━━━━━\u001b[0m\u001b[37m\u001b[0m \u001b[1m94s\u001b[0m 502ms/step - accuracy: 0.5938 - loss: 0.8486 - val_accuracy: 0.7209 - val_loss: 0.7458\n",
      "Epoch 3/10\n",
      "\u001b[1m186/186\u001b[0m \u001b[32m━━━━━━━━━━━━━━━━━━━━\u001b[0m\u001b[37m\u001b[0m \u001b[1m350s\u001b[0m 2s/step - accuracy: 0.7495 - loss: 0.6843 - val_accuracy: 0.7435 - val_loss: 0.6916\n",
      "Epoch 4/10\n",
      "\u001b[1m186/186\u001b[0m \u001b[32m━━━━━━━━━━━━━━━━━━━━\u001b[0m\u001b[37m\u001b[0m \u001b[1m86s\u001b[0m 458ms/step - accuracy: 0.5938 - loss: 0.7609 - val_accuracy: 0.7450 - val_loss: 0.6923\n",
      "Epoch 5/10\n",
      "\u001b[1m186/186\u001b[0m \u001b[32m━━━━━━━━━━━━━━━━━━━━\u001b[0m\u001b[37m\u001b[0m \u001b[1m354s\u001b[0m 2s/step - accuracy: 0.7758 - loss: 0.6171 - val_accuracy: 0.7540 - val_loss: 0.6626\n",
      "Epoch 6/10\n",
      "\u001b[1m186/186\u001b[0m \u001b[32m━━━━━━━━━━━━━━━━━━━━\u001b[0m\u001b[37m\u001b[0m \u001b[1m94s\u001b[0m 502ms/step - accuracy: 0.7812 - loss: 0.5565 - val_accuracy: 0.7480 - val_loss: 0.6649\n",
      "Epoch 7/10\n",
      "\u001b[1m186/186\u001b[0m \u001b[32m━━━━━━━━━━━━━━━━━━━━\u001b[0m\u001b[37m\u001b[0m \u001b[1m389s\u001b[0m 2s/step - accuracy: 0.8057 - loss: 0.5578 - val_accuracy: 0.7600 - val_loss: 0.6396\n",
      "Epoch 8/10\n",
      "\u001b[1m186/186\u001b[0m \u001b[32m━━━━━━━━━━━━━━━━━━━━\u001b[0m\u001b[37m\u001b[0m \u001b[1m103s\u001b[0m 547ms/step - accuracy: 0.6875 - loss: 0.7795 - val_accuracy: 0.7615 - val_loss: 0.6423\n",
      "Epoch 9/10\n",
      "\u001b[1m186/186\u001b[0m \u001b[32m━━━━━━━━━━━━━━━━━━━━\u001b[0m\u001b[37m\u001b[0m \u001b[1m408s\u001b[0m 2s/step - accuracy: 0.8184 - loss: 0.5013 - val_accuracy: 0.7525 - val_loss: 0.6746\n",
      "Epoch 10/10\n",
      "\u001b[1m186/186\u001b[0m \u001b[32m━━━━━━━━━━━━━━━━━━━━\u001b[0m\u001b[37m\u001b[0m \u001b[1m102s\u001b[0m 543ms/step - accuracy: 0.8438 - loss: 0.4533 - val_accuracy: 0.7485 - val_loss: 0.6906\n"
     ]
    }
   ],
   "source": [
    "# Numero de pasos por epoch\n",
    "batch_size = 32\n",
    "steps_per_epoch = len(X_train) // batch_size\n",
    "# Entrenar el modelo\n",
    "history = model.fit(datagen.flow(X_train, y_train, batch_size=batch_size),\n",
    "                    steps_per_epoch=steps_per_epoch,\n",
    "                    epochs=10,\n",
    "                    validation_data=(X_test, y_test))"
   ]
  },
  {
   "cell_type": "code",
   "execution_count": 19,
   "metadata": {},
   "outputs": [
    {
     "data": {
      "text/plain": [
       "array([[0., 0., 0., 1., 0.],\n",
       "       [0., 0., 0., 0., 1.],\n",
       "       [0., 0., 0., 1., 0.],\n",
       "       ...,\n",
       "       [0., 0., 0., 0., 1.],\n",
       "       [1., 0., 0., 0., 0.],\n",
       "       [1., 0., 0., 0., 0.]])"
      ]
     },
     "execution_count": 19,
     "metadata": {},
     "output_type": "execute_result"
    }
   ],
   "source": [
    "labels_encoded"
   ]
  },
  {
   "cell_type": "code",
   "execution_count": 16,
   "metadata": {},
   "outputs": [],
   "source": [
    "model.save(\"Modelo_Base_entrenado.keras\")"
   ]
  },
  {
   "cell_type": "code",
   "execution_count": 17,
   "metadata": {},
   "outputs": [
    {
     "name": "stdout",
     "output_type": "stream",
     "text": [
      "\u001b[1m63/63\u001b[0m \u001b[32m━━━━━━━━━━━━━━━━━━━━\u001b[0m\u001b[37m\u001b[0m \u001b[1m107s\u001b[0m 2s/step\n",
      "F1-score: 0.7502730197361188\n",
      "Accuracy: 0.7484939759036144\n",
      "              precision    recall  f1-score   support\n",
      "\n",
      "       drink       0.80      0.75      0.78       422\n",
      "        food       0.83      0.79      0.81       387\n",
      "      inside       0.71      0.60      0.65       411\n",
      "        menu       0.92      0.73      0.81       369\n",
      "     outside       0.60      0.88      0.71       403\n",
      "\n",
      "    accuracy                           0.75      1992\n",
      "   macro avg       0.77      0.75      0.75      1992\n",
      "weighted avg       0.77      0.75      0.75      1992\n",
      "\n"
     ]
    },
    {
     "data": {
      "image/png": "[encoded data removed]",
      "text/plain": [
       "<Figure size 640x480 with 1 Axes>"
      ]
     },
     "metadata": {},
     "output_type": "display_data"
    }
   ],
   "source": [
    "# Predicciones en el conjunto de prueba\n",
    "y_pred = model.predict(X_test)\n",
    "y_pred_classes = np.argmax(y_pred, axis=1)\n",
    "y_true_classes = np.argmax(y_test, axis=1)\n",
    "\n",
    "\n",
    "# Calcular el F1-score\n",
    "f1 = f1_score(y_true_classes, y_pred_classes, average='weighted')\n",
    "print(f'F1-score: {f1}')\n",
    "\n",
    "# Calcular el accuracy\n",
    "accuracy = accuracy_score(y_true_classes, y_pred_classes)\n",
    "print(f'Accuracy: {accuracy}')\n",
    "\n",
    "# Generar el reporte de clasificación\n",
    "report = classification_report(y_true_classes, y_pred_classes, target_names=label_encoder.classes_)\n",
    "print(report)\n",
    "\n",
    "# Generar la curva ROC y el AUC para cada clase\n",
    "fpr = dict()\n",
    "tpr = dict()\n",
    "roc_auc = dict()\n",
    "for i in range(5):\n",
    "    fpr[i], tpr[i], _ = roc_curve(y_test[:, i], y_pred[:, i])\n",
    "    roc_auc[i] = auc(fpr[i], tpr[i])\n",
    "\n",
    "# Plotear todas las curvas ROC\n",
    "plt.figure()\n",
    "colors = ['aqua', 'darkorange', 'cornflowerblue', 'green', 'red']\n",
    "for i, color in zip(range(5), colors):\n",
    "    plt.plot(fpr[i], tpr[i], color=color, lw=2,\n",
    "             label=f'ROC curve (area = {roc_auc[i]:.2f}) for class {i}')\n",
    "plt.plot([0, 1], [0, 1], 'k--', lw=2)\n",
    "plt.xlim([0.0, 1.0]) # apuntar \n",
    "plt.ylim([0.0, 1.05])\n",
    "plt.xlabel('False Positive Rate')\n",
    "plt.ylabel('True Positive Rate')\n",
    "plt.title('Some extension of Receiver operating characteristic to multi-class')\n",
    "plt.legend(loc=\"lower right\")\n",
    "plt.show()"
   ]
  }
 ],
 "metadata": {
  "kernelspec": {
   "display_name": "Python 3",
   "language": "python",
   "name": "python3"
  },
  "language_info": {
   "codemirror_mode": {
    "name": "ipython",
    "version": 3
   },
   "file_extension": ".py",
   "mimetype": "text/x-python",
   "name": "python",
   "nbconvert_exporter": "python",
   "pygments_lexer": "ipython3",
   "version": "3.11.8"
  }
 },
 "nbformat": 4,
 "nbformat_minor": 2
}
