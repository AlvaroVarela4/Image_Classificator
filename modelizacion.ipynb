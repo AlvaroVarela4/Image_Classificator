{
 "cells": [
  {
   "cell_type": "markdown",
   "metadata": {},
   "source": [
    "# Fase de Modelización "
   ]
  },
  {
   "cell_type": "markdown",
   "metadata": {},
   "source": [
    "## Carga del modelo MovilNet"
   ]
  },
  {
   "cell_type": "markdown",
   "metadata": {},
   "source": [
    "En este primer punto vamos a cargar el modelo MovilNet para iniciar la fase de entrenamiento del modelo con los datos obtenidos en la fase de preanalisis y resolución. Luego probaremos una segunda parte con una CNN creada desde cero para contrastar resultados"
   ]
  },
  {
   "cell_type": "markdown",
   "metadata": {},
   "source": [
    "### 1. Importamos las librerias que necesitamos para instanciar el modelo "
   ]
  },
  {
   "cell_type": "code",
   "execution_count": 124,
   "metadata": {},
   "outputs": [
    {
     "data": {
      "application/javascript": "IPython.notebook.kernel.restart()",
      "text/plain": [
       "<IPython.core.display.Javascript object>"
      ]
     },
     "metadata": {},
     "output_type": "display_data"
    }
   ],
   "source": [
    "from IPython.display import display, Javascript\n",
    "\n",
    "display(Javascript('IPython.notebook.kernel.restart()'))"
   ]
  },
  {
   "cell_type": "code",
   "execution_count": 1,
   "metadata": {},
   "outputs": [],
   "source": [
    "%run imports.py"
   ]
  },
  {
   "cell_type": "code",
   "execution_count": 2,
   "metadata": {},
   "outputs": [
    {
     "data": {
      "text/html": [
       "<div>\n",
       "<style scoped>\n",
       "    .dataframe tbody tr th:only-of-type {\n",
       "        vertical-align: middle;\n",
       "    }\n",
       "\n",
       "    .dataframe tbody tr th {\n",
       "        vertical-align: top;\n",
       "    }\n",
       "\n",
       "    .dataframe thead th {\n",
       "        text-align: right;\n",
       "    }\n",
       "</style>\n",
       "<table border=\"1\" class=\"dataframe\">\n",
       "  <thead>\n",
       "    <tr style=\"text-align: right;\">\n",
       "      <th></th>\n",
       "      <th>photo_id</th>\n",
       "      <th>business_id</th>\n",
       "      <th>caption</th>\n",
       "      <th>label</th>\n",
       "    </tr>\n",
       "  </thead>\n",
       "  <tbody>\n",
       "    <tr>\n",
       "      <th>0</th>\n",
       "      <td>6LJa8QZOGBjt9maE5miLhw</td>\n",
       "      <td>368cyArdo0P0aDUOhhE4PA</td>\n",
       "      <td>Drive-thru menu</td>\n",
       "      <td>menu</td>\n",
       "    </tr>\n",
       "    <tr>\n",
       "      <th>1</th>\n",
       "      <td>T_QaBsquJlzAQd5bbCrLfA</td>\n",
       "      <td>jwpZzqoPFLuHE-FwLp41cQ</td>\n",
       "      <td>Courtyard at Bistro di Marino</td>\n",
       "      <td>outside</td>\n",
       "    </tr>\n",
       "    <tr>\n",
       "      <th>2</th>\n",
       "      <td>DtsfhqhqUB-tjs5XbwJfXw</td>\n",
       "      <td>s-74t4aQKL2pWeQmIB-c1Q</td>\n",
       "      <td>Vegan Options</td>\n",
       "      <td>menu</td>\n",
       "    </tr>\n",
       "    <tr>\n",
       "      <th>3</th>\n",
       "      <td>Iehiw_bcHnXw-pg0w2M06w</td>\n",
       "      <td>64jKdxGGwfHx4rutBBKWBQ</td>\n",
       "      <td>New Keto Protein Punch! 15g protein, 3g of car...</td>\n",
       "      <td>drink</td>\n",
       "    </tr>\n",
       "    <tr>\n",
       "      <th>4</th>\n",
       "      <td>JClkivVTbSvCJAsdqtOa2g</td>\n",
       "      <td>ToqcYJVdnrp4fefaucm-Vg</td>\n",
       "      <td>NaN</td>\n",
       "      <td>inside</td>\n",
       "    </tr>\n",
       "  </tbody>\n",
       "</table>\n",
       "</div>"
      ],
      "text/plain": [
       "                 photo_id             business_id  \\\n",
       "0  6LJa8QZOGBjt9maE5miLhw  368cyArdo0P0aDUOhhE4PA   \n",
       "1  T_QaBsquJlzAQd5bbCrLfA  jwpZzqoPFLuHE-FwLp41cQ   \n",
       "2  DtsfhqhqUB-tjs5XbwJfXw  s-74t4aQKL2pWeQmIB-c1Q   \n",
       "3  Iehiw_bcHnXw-pg0w2M06w  64jKdxGGwfHx4rutBBKWBQ   \n",
       "4  JClkivVTbSvCJAsdqtOa2g  ToqcYJVdnrp4fefaucm-Vg   \n",
       "\n",
       "                                             caption    label  \n",
       "0                                    Drive-thru menu     menu  \n",
       "1                      Courtyard at Bistro di Marino  outside  \n",
       "2                                      Vegan Options     menu  \n",
       "3  New Keto Protein Punch! 15g protein, 3g of car...    drink  \n",
       "4                                                NaN   inside  "
      ]
     },
     "execution_count": 2,
     "metadata": {},
     "output_type": "execute_result"
    }
   ],
   "source": [
    "dataframe = pd.read_csv(\"output/model_photosv1.0.csv\")\n",
    "dataframe.head()"
   ]
  },
  {
   "cell_type": "code",
   "execution_count": 3,
   "metadata": {},
   "outputs": [
    {
     "data": {
      "text/html": [
       "<div>\n",
       "<style scoped>\n",
       "    .dataframe tbody tr th:only-of-type {\n",
       "        vertical-align: middle;\n",
       "    }\n",
       "\n",
       "    .dataframe tbody tr th {\n",
       "        vertical-align: top;\n",
       "    }\n",
       "\n",
       "    .dataframe thead th {\n",
       "        text-align: right;\n",
       "    }\n",
       "</style>\n",
       "<table border=\"1\" class=\"dataframe\">\n",
       "  <thead>\n",
       "    <tr style=\"text-align: right;\">\n",
       "      <th></th>\n",
       "      <th>photo_id</th>\n",
       "      <th>label</th>\n",
       "    </tr>\n",
       "  </thead>\n",
       "  <tbody>\n",
       "    <tr>\n",
       "      <th>0</th>\n",
       "      <td>6LJa8QZOGBjt9maE5miLhw</td>\n",
       "      <td>menu</td>\n",
       "    </tr>\n",
       "    <tr>\n",
       "      <th>1</th>\n",
       "      <td>T_QaBsquJlzAQd5bbCrLfA</td>\n",
       "      <td>outside</td>\n",
       "    </tr>\n",
       "    <tr>\n",
       "      <th>2</th>\n",
       "      <td>DtsfhqhqUB-tjs5XbwJfXw</td>\n",
       "      <td>menu</td>\n",
       "    </tr>\n",
       "    <tr>\n",
       "      <th>3</th>\n",
       "      <td>Iehiw_bcHnXw-pg0w2M06w</td>\n",
       "      <td>drink</td>\n",
       "    </tr>\n",
       "    <tr>\n",
       "      <th>4</th>\n",
       "      <td>JClkivVTbSvCJAsdqtOa2g</td>\n",
       "      <td>inside</td>\n",
       "    </tr>\n",
       "  </tbody>\n",
       "</table>\n",
       "</div>"
      ],
      "text/plain": [
       "                 photo_id    label\n",
       "0  6LJa8QZOGBjt9maE5miLhw     menu\n",
       "1  T_QaBsquJlzAQd5bbCrLfA  outside\n",
       "2  DtsfhqhqUB-tjs5XbwJfXw     menu\n",
       "3  Iehiw_bcHnXw-pg0w2M06w    drink\n",
       "4  JClkivVTbSvCJAsdqtOa2g   inside"
      ]
     },
     "execution_count": 3,
     "metadata": {},
     "output_type": "execute_result"
    }
   ],
   "source": [
    "# Limpieza de columnas innecesarias\n",
    "dataframe.drop(columns=[\"business_id\", \"caption\"], inplace=True)\n",
    "dataframe.head()"
   ]
  },
  {
   "cell_type": "code",
   "execution_count": 4,
   "metadata": {},
   "outputs": [],
   "source": [
    "image_paths = []\n",
    "for image in dataframe['photo_id']: \n",
    "    image_paths.append(os.path.join(\"photos\", f'{image}.jpg'))"
   ]
  },
  {
   "cell_type": "code",
   "execution_count": 5,
   "metadata": {},
   "outputs": [
    {
     "data": {
      "text/html": [
       "<div>\n",
       "<style scoped>\n",
       "    .dataframe tbody tr th:only-of-type {\n",
       "        vertical-align: middle;\n",
       "    }\n",
       "\n",
       "    .dataframe tbody tr th {\n",
       "        vertical-align: top;\n",
       "    }\n",
       "\n",
       "    .dataframe thead th {\n",
       "        text-align: right;\n",
       "    }\n",
       "</style>\n",
       "<table border=\"1\" class=\"dataframe\">\n",
       "  <thead>\n",
       "    <tr style=\"text-align: right;\">\n",
       "      <th></th>\n",
       "      <th>photo_id</th>\n",
       "      <th>path_files</th>\n",
       "      <th>label</th>\n",
       "    </tr>\n",
       "  </thead>\n",
       "  <tbody>\n",
       "    <tr>\n",
       "      <th>0</th>\n",
       "      <td>6LJa8QZOGBjt9maE5miLhw</td>\n",
       "      <td>photos\\6LJa8QZOGBjt9maE5miLhw.jpg</td>\n",
       "      <td>menu</td>\n",
       "    </tr>\n",
       "    <tr>\n",
       "      <th>1</th>\n",
       "      <td>T_QaBsquJlzAQd5bbCrLfA</td>\n",
       "      <td>photos\\T_QaBsquJlzAQd5bbCrLfA.jpg</td>\n",
       "      <td>outside</td>\n",
       "    </tr>\n",
       "    <tr>\n",
       "      <th>2</th>\n",
       "      <td>DtsfhqhqUB-tjs5XbwJfXw</td>\n",
       "      <td>photos\\DtsfhqhqUB-tjs5XbwJfXw.jpg</td>\n",
       "      <td>menu</td>\n",
       "    </tr>\n",
       "    <tr>\n",
       "      <th>3</th>\n",
       "      <td>Iehiw_bcHnXw-pg0w2M06w</td>\n",
       "      <td>photos\\Iehiw_bcHnXw-pg0w2M06w.jpg</td>\n",
       "      <td>drink</td>\n",
       "    </tr>\n",
       "    <tr>\n",
       "      <th>4</th>\n",
       "      <td>JClkivVTbSvCJAsdqtOa2g</td>\n",
       "      <td>photos\\JClkivVTbSvCJAsdqtOa2g.jpg</td>\n",
       "      <td>inside</td>\n",
       "    </tr>\n",
       "  </tbody>\n",
       "</table>\n",
       "</div>"
      ],
      "text/plain": [
       "                 photo_id                         path_files    label\n",
       "0  6LJa8QZOGBjt9maE5miLhw  photos\\6LJa8QZOGBjt9maE5miLhw.jpg     menu\n",
       "1  T_QaBsquJlzAQd5bbCrLfA  photos\\T_QaBsquJlzAQd5bbCrLfA.jpg  outside\n",
       "2  DtsfhqhqUB-tjs5XbwJfXw  photos\\DtsfhqhqUB-tjs5XbwJfXw.jpg     menu\n",
       "3  Iehiw_bcHnXw-pg0w2M06w  photos\\Iehiw_bcHnXw-pg0w2M06w.jpg    drink\n",
       "4  JClkivVTbSvCJAsdqtOa2g  photos\\JClkivVTbSvCJAsdqtOa2g.jpg   inside"
      ]
     },
     "execution_count": 5,
     "metadata": {},
     "output_type": "execute_result"
    }
   ],
   "source": [
    "dataframe['path_files'] = image_paths\n",
    "dataframe = dataframe.reindex(columns=['photo_id', 'path_files', 'label'])\n",
    "dataframe.head()"
   ]
  },
  {
   "cell_type": "code",
   "execution_count": 6,
   "metadata": {},
   "outputs": [
    {
     "data": {
      "text/html": [
       "<div>\n",
       "<style scoped>\n",
       "    .dataframe tbody tr th:only-of-type {\n",
       "        vertical-align: middle;\n",
       "    }\n",
       "\n",
       "    .dataframe tbody tr th {\n",
       "        vertical-align: top;\n",
       "    }\n",
       "\n",
       "    .dataframe thead th {\n",
       "        text-align: right;\n",
       "    }\n",
       "</style>\n",
       "<table border=\"1\" class=\"dataframe\">\n",
       "  <thead>\n",
       "    <tr style=\"text-align: right;\">\n",
       "      <th></th>\n",
       "      <th>path_files</th>\n",
       "      <th>label</th>\n",
       "    </tr>\n",
       "  </thead>\n",
       "  <tbody>\n",
       "    <tr>\n",
       "      <th>0</th>\n",
       "      <td>photos\\6LJa8QZOGBjt9maE5miLhw.jpg</td>\n",
       "      <td>menu</td>\n",
       "    </tr>\n",
       "    <tr>\n",
       "      <th>1</th>\n",
       "      <td>photos\\T_QaBsquJlzAQd5bbCrLfA.jpg</td>\n",
       "      <td>outside</td>\n",
       "    </tr>\n",
       "    <tr>\n",
       "      <th>2</th>\n",
       "      <td>photos\\DtsfhqhqUB-tjs5XbwJfXw.jpg</td>\n",
       "      <td>menu</td>\n",
       "    </tr>\n",
       "    <tr>\n",
       "      <th>3</th>\n",
       "      <td>photos\\Iehiw_bcHnXw-pg0w2M06w.jpg</td>\n",
       "      <td>drink</td>\n",
       "    </tr>\n",
       "    <tr>\n",
       "      <th>4</th>\n",
       "      <td>photos\\JClkivVTbSvCJAsdqtOa2g.jpg</td>\n",
       "      <td>inside</td>\n",
       "    </tr>\n",
       "  </tbody>\n",
       "</table>\n",
       "</div>"
      ],
      "text/plain": [
       "                          path_files    label\n",
       "0  photos\\6LJa8QZOGBjt9maE5miLhw.jpg     menu\n",
       "1  photos\\T_QaBsquJlzAQd5bbCrLfA.jpg  outside\n",
       "2  photos\\DtsfhqhqUB-tjs5XbwJfXw.jpg     menu\n",
       "3  photos\\Iehiw_bcHnXw-pg0w2M06w.jpg    drink\n",
       "4  photos\\JClkivVTbSvCJAsdqtOa2g.jpg   inside"
      ]
     },
     "execution_count": 6,
     "metadata": {},
     "output_type": "execute_result"
    }
   ],
   "source": [
    "#Resultado final\n",
    "dataframe = dataframe[[\"path_files\", \"label\"]]\n",
    "dataframe.head()"
   ]
  },
  {
   "cell_type": "code",
   "execution_count": 7,
   "metadata": {},
   "outputs": [
    {
     "name": "stdout",
     "output_type": "stream",
     "text": [
      "(7965, 0)\n"
     ]
    }
   ],
   "source": [
    "# Funcion check_path: verifica que todas las imagenes se abren correctamente mediante la columna \"path_files\"\n",
    "def check_path(data):\n",
    "    t = 0 \n",
    "    f = 0  \n",
    "    for path in data['path_files']: \n",
    "        try: \n",
    "            Image.open(path)\n",
    "            t += 1\n",
    "            # print(f\"Image {path} opened successfully : {t}\")\n",
    "\n",
    "        except Exception as e:\n",
    "            f += 1\n",
    "            # print(f\"Image {path} invalid format : {f}\")\n",
    "\n",
    "    return t, f\n",
    "        \n",
    "print(check_path(dataframe))"
   ]
  },
  {
   "cell_type": "code",
   "execution_count": 8,
   "metadata": {},
   "outputs": [
    {
     "data": {
      "text/html": [
       "<div>\n",
       "<style scoped>\n",
       "    .dataframe tbody tr th:only-of-type {\n",
       "        vertical-align: middle;\n",
       "    }\n",
       "\n",
       "    .dataframe tbody tr th {\n",
       "        vertical-align: top;\n",
       "    }\n",
       "\n",
       "    .dataframe thead th {\n",
       "        text-align: right;\n",
       "    }\n",
       "</style>\n",
       "<table border=\"1\" class=\"dataframe\">\n",
       "  <thead>\n",
       "    <tr style=\"text-align: right;\">\n",
       "      <th></th>\n",
       "      <th>path_files</th>\n",
       "      <th>label</th>\n",
       "      <th>label_encoded</th>\n",
       "    </tr>\n",
       "  </thead>\n",
       "  <tbody>\n",
       "    <tr>\n",
       "      <th>0</th>\n",
       "      <td>photos\\6LJa8QZOGBjt9maE5miLhw.jpg</td>\n",
       "      <td>menu</td>\n",
       "      <td>3</td>\n",
       "    </tr>\n",
       "    <tr>\n",
       "      <th>1</th>\n",
       "      <td>photos\\T_QaBsquJlzAQd5bbCrLfA.jpg</td>\n",
       "      <td>outside</td>\n",
       "      <td>4</td>\n",
       "    </tr>\n",
       "    <tr>\n",
       "      <th>2</th>\n",
       "      <td>photos\\DtsfhqhqUB-tjs5XbwJfXw.jpg</td>\n",
       "      <td>menu</td>\n",
       "      <td>3</td>\n",
       "    </tr>\n",
       "    <tr>\n",
       "      <th>3</th>\n",
       "      <td>photos\\Iehiw_bcHnXw-pg0w2M06w.jpg</td>\n",
       "      <td>drink</td>\n",
       "      <td>0</td>\n",
       "    </tr>\n",
       "    <tr>\n",
       "      <th>4</th>\n",
       "      <td>photos\\JClkivVTbSvCJAsdqtOa2g.jpg</td>\n",
       "      <td>inside</td>\n",
       "      <td>2</td>\n",
       "    </tr>\n",
       "  </tbody>\n",
       "</table>\n",
       "</div>"
      ],
      "text/plain": [
       "                          path_files    label  label_encoded\n",
       "0  photos\\6LJa8QZOGBjt9maE5miLhw.jpg     menu              3\n",
       "1  photos\\T_QaBsquJlzAQd5bbCrLfA.jpg  outside              4\n",
       "2  photos\\DtsfhqhqUB-tjs5XbwJfXw.jpg     menu              3\n",
       "3  photos\\Iehiw_bcHnXw-pg0w2M06w.jpg    drink              0\n",
       "4  photos\\JClkivVTbSvCJAsdqtOa2g.jpg   inside              2"
      ]
     },
     "execution_count": 8,
     "metadata": {},
     "output_type": "execute_result"
    }
   ],
   "source": [
    "label_encoder = LabelEncoder()\n",
    "dataframe['label_encoded'] = label_encoder.fit_transform(dataframe['label']).tolist()\n",
    "dataframe.head()"
   ]
  },
  {
   "cell_type": "code",
   "execution_count": 9,
   "metadata": {},
   "outputs": [
    {
     "data": {
      "text/plain": [
       "array([3, 4, 0, 2, 1], dtype=int64)"
      ]
     },
     "execution_count": 9,
     "metadata": {},
     "output_type": "execute_result"
    }
   ],
   "source": [
    "dataframe['label_encoded'].unique()"
   ]
  },
  {
   "cell_type": "code",
   "execution_count": 7,
   "metadata": {},
   "outputs": [
    {
     "name": "stdout",
     "output_type": "stream",
     "text": [
      "Shape of images: (7965, 244, 244, 3)\n",
      "Shape of labels: (7965, 5)\n"
     ]
    }
   ],
   "source": [
    "def image_label_load(data): \n",
    "    images = []\n",
    "    labels = []\n",
    "\n",
    "    for image_path, label in zip(data['path_files'].tolist(), data['label'].tolist()):\n",
    "        try: \n",
    "            img = Image.open(image_path).resize((244,244)).convert('RGB')\n",
    "            images.append(np.array(img))\n",
    "            labels.append(np.array(label))\n",
    "        except Exception as e: \n",
    "            print(f\"{e} Levantado tras ejecutar la ruta {image_path}\")\n",
    "    \n",
    "    return np.array(images), np.array(labels)\n",
    "\n",
    "images, labels = image_label_load(dataframe)\n",
    "\n",
    "# Codificar las etiquetas\n",
    "label_encoder = LabelEncoder()\n",
    "labels_encoded = label_encoder.fit_transform(labels)\n",
    "labels_encoded = to_categorical(labels_encoded, num_classes=5)  # Asegúrate de especificar 5 clases\n",
    "\n",
    "print(f\"Shape of images: {images.shape}\")\n",
    "print(f\"Shape of labels: {labels_encoded.shape}\")\n"
   ]
  },
  {
   "cell_type": "code",
   "execution_count": 8,
   "metadata": {},
   "outputs": [
    {
     "name": "stderr",
     "output_type": "stream",
     "text": [
      "C:\\Users\\varel\\AppData\\Local\\Temp\\ipykernel_26384\\3325738747.py:2: UserWarning: `input_shape` is undefined or non-square, or `rows` is not in [96, 128, 160, 192, 224]. Weights for input shape (224, 224) will be loaded as the default.\n",
      "  base_model = MobileNetV2(weights='imagenet', include_top=False, input_shape=(244,244,3))\n"
     ]
    }
   ],
   "source": [
    "# Carga del MobileNetV2\n",
    "base_model = MobileNetV2(weights='imagenet', include_top=False, input_shape=(244,244,3))\n",
    "\n",
    "# Congelar capas base del modelo -> Conserva los pesos establecidos por el aprendizaje de imagenet\n",
    "base_model.trainable = False \n",
    "\n",
    "#Añadimos capas superiores para ajustar el modelo a nuestro caso concreto: \n",
    "\n",
    "x = base_model.output \n",
    "x = GlobalAveragePooling2D()(x) \n",
    "x = Dense(128, activation='relu')(x) \n",
    "\n",
    "predictions = Dense(5, activation='softmax')(x) # Ajuste para 5 clases (menu, outside, drink, inside, food)\n",
    "\n",
    "# Instancia del MobileNetV2 + capas superiores \n",
    "model = Model(inputs=base_model.input, outputs=predictions)\n",
    "\n",
    "# Compilacion del modelo en conjunto: \n",
    "\n",
    "model.compile(optimizer ='adam', loss = 'categorical_crossentropy', metrics = ['accuracy'])\n"
   ]
  },
  {
   "cell_type": "code",
   "execution_count": 9,
   "metadata": {},
   "outputs": [],
   "source": [
    "# Train/Test split -> Division  de conjuntos de datos en entrenamiento y validacion \n",
    "\n",
    "X_train, X_test, y_train, y_test = train_test_split(images, labels_encoded, test_size=0.25, random_state=42)\n",
    "\n",
    "\n",
    "# Data Augmentation --> para ganar mas variedad de datos a la hora de entrenar \n",
    "\n",
    "                ### HIPER-PARAMETROS DE DATA AUGMENTATION PARA ENTRENAMIENTO ###\n",
    "datagen = ImageDataGenerator(\n",
    "    rotation_range=20,\n",
    "    width_shift_range=0.2,\n",
    "    height_shift_range=0.2,\n",
    "    shear_range=0.2,\n",
    "    zoom_range=0.2,\n",
    "    horizontal_flip=True,\n",
    "    fill_mode='nearest'\n",
    ")\n",
    "# Ajustamos el generador de datos al conjunto de entrenamiento \n",
    "\n",
    "datagen.fit(X_train)"
   ]
  },
  {
   "cell_type": "code",
   "execution_count": 10,
   "metadata": {},
   "outputs": [
    {
     "name": "stdout",
     "output_type": "stream",
     "text": [
      "Epoch 1/10\n"
     ]
    },
    {
     "name": "stderr",
     "output_type": "stream",
     "text": [
      "c:\\Users\\varel\\AppData\\Local\\Programs\\Python\\Python311\\Lib\\site-packages\\keras\\src\\trainers\\data_adapters\\py_dataset_adapter.py:121: UserWarning: Your `PyDataset` class should call `super().__init__(**kwargs)` in its constructor. `**kwargs` can include `workers`, `use_multiprocessing`, `max_queue_size`. Do not pass these arguments to `fit()`, as they will be ignored.\n",
      "  self._warn_if_super_not_called()\n"
     ]
    },
    {
     "name": "stdout",
     "output_type": "stream",
     "text": [
      "\u001b[1m186/186\u001b[0m \u001b[32m━━━━━━━━━━━━━━━━━━━━\u001b[0m\u001b[37m\u001b[0m \u001b[1m262s\u001b[0m 1s/step - accuracy: 0.5227 - loss: 1.2053 - val_accuracy: 0.6787 - val_loss: 0.8549\n",
      "Epoch 2/10\n",
      "\u001b[1m  1/186\u001b[0m \u001b[37m━━━━━━━━━━━━━━━━━━━━\u001b[0m \u001b[1m2:51\u001b[0m 925ms/step - accuracy: 0.8125 - loss: 0.7058"
     ]
    },
    {
     "name": "stderr",
     "output_type": "stream",
     "text": [
      "c:\\Users\\varel\\AppData\\Local\\Programs\\Python\\Python311\\Lib\\contextlib.py:158: UserWarning: Your input ran out of data; interrupting training. Make sure that your dataset or generator can generate at least `steps_per_epoch * epochs` batches. You may need to use the `.repeat()` function when building your dataset.\n",
      "  self.gen.throw(typ, value, traceback)\n"
     ]
    },
    {
     "name": "stdout",
     "output_type": "stream",
     "text": [
      "\u001b[1m186/186\u001b[0m \u001b[32m━━━━━━━━━━━━━━━━━━━━\u001b[0m\u001b[37m\u001b[0m \u001b[1m60s\u001b[0m 319ms/step - accuracy: 0.8125 - loss: 0.7058 - val_accuracy: 0.6551 - val_loss: 0.8922\n",
      "Epoch 3/10\n",
      "\u001b[1m186/186\u001b[0m \u001b[32m━━━━━━━━━━━━━━━━━━━━\u001b[0m\u001b[37m\u001b[0m \u001b[1m255s\u001b[0m 1s/step - accuracy: 0.6613 - loss: 0.8682 - val_accuracy: 0.6918 - val_loss: 0.8064\n",
      "Epoch 4/10\n",
      "\u001b[1m186/186\u001b[0m \u001b[32m━━━━━━━━━━━━━━━━━━━━\u001b[0m\u001b[37m\u001b[0m \u001b[1m58s\u001b[0m 311ms/step - accuracy: 0.6875 - loss: 0.6174 - val_accuracy: 0.6938 - val_loss: 0.7987\n",
      "Epoch 5/10\n",
      "\u001b[1m186/186\u001b[0m \u001b[32m━━━━━━━━━━━━━━━━━━━━\u001b[0m\u001b[37m\u001b[0m \u001b[1m256s\u001b[0m 1s/step - accuracy: 0.6906 - loss: 0.7982 - val_accuracy: 0.6837 - val_loss: 0.8042\n",
      "Epoch 6/10\n",
      "\u001b[1m186/186\u001b[0m \u001b[32m━━━━━━━━━━━━━━━━━━━━\u001b[0m\u001b[37m\u001b[0m \u001b[1m56s\u001b[0m 300ms/step - accuracy: 0.7500 - loss: 1.1697 - val_accuracy: 0.6777 - val_loss: 0.8209\n",
      "Epoch 7/10\n",
      "\u001b[1m186/186\u001b[0m \u001b[32m━━━━━━━━━━━━━━━━━━━━\u001b[0m\u001b[37m\u001b[0m \u001b[1m248s\u001b[0m 1s/step - accuracy: 0.7065 - loss: 0.7744 - val_accuracy: 0.7038 - val_loss: 0.7837\n",
      "Epoch 8/10\n",
      "\u001b[1m186/186\u001b[0m \u001b[32m━━━━━━━━━━━━━━━━━━━━\u001b[0m\u001b[37m\u001b[0m \u001b[1m57s\u001b[0m 306ms/step - accuracy: 0.4688 - loss: 0.9540 - val_accuracy: 0.7093 - val_loss: 0.7673\n",
      "Epoch 9/10\n",
      "\u001b[1m186/186\u001b[0m \u001b[32m━━━━━━━━━━━━━━━━━━━━\u001b[0m\u001b[37m\u001b[0m \u001b[1m248s\u001b[0m 1s/step - accuracy: 0.7266 - loss: 0.7323 - val_accuracy: 0.7184 - val_loss: 0.7511\n",
      "Epoch 10/10\n",
      "\u001b[1m186/186\u001b[0m \u001b[32m━━━━━━━━━━━━━━━━━━━━\u001b[0m\u001b[37m\u001b[0m \u001b[1m56s\u001b[0m 299ms/step - accuracy: 0.7188 - loss: 0.9128 - val_accuracy: 0.7194 - val_loss: 0.7480\n"
     ]
    }
   ],
   "source": [
    "# Numero de pasos por epoch\n",
    "batch_size = 32\n",
    "steps_per_epoch = len(X_train) // batch_size\n",
    "# Entrenar el modelo\n",
    "history = model.fit(datagen.flow(X_train, y_train, batch_size=batch_size),\n",
    "                    steps_per_epoch=steps_per_epoch,\n",
    "                    epochs=10,\n",
    "                    validation_data=(X_test, y_test))"
   ]
  },
  {
   "cell_type": "code",
   "execution_count": 12,
   "metadata": {},
   "outputs": [
    {
     "name": "stdout",
     "output_type": "stream",
     "text": [
      "\u001b[1m63/63\u001b[0m \u001b[32m━━━━━━━━━━━━━━━━━━━━\u001b[0m\u001b[37m\u001b[0m \u001b[1m58s\u001b[0m 914ms/step\n",
      "F1-score: 0.7168245673786892\n",
      "Accuracy: 0.7193775100401606\n",
      "              precision    recall  f1-score   support\n",
      "\n",
      "       drink       0.80      0.47      0.60       403\n",
      "        food       0.75      0.81      0.78       400\n",
      "      inside       0.55      0.73      0.62       361\n",
      "        menu       0.84      0.83      0.83       425\n",
      "     outside       0.72      0.75      0.73       403\n",
      "\n",
      "    accuracy                           0.72      1992\n",
      "   macro avg       0.73      0.72      0.71      1992\n",
      "weighted avg       0.74      0.72      0.72      1992\n",
      "\n"
     ]
    },
    {
     "data": {
      "image/png": "[encoded data removed]",
      "text/plain": [
       "<Figure size 640x480 with 1 Axes>"
      ]
     },
     "metadata": {},
     "output_type": "display_data"
    }
   ],
   "source": [
    "# Predicciones en el conjunto de prueba\n",
    "y_pred = model.predict(X_test)\n",
    "y_pred_classes = np.argmax(y_pred, axis=1)\n",
    "y_true_classes = np.argmax(y_test, axis=1)\n",
    "\n",
    "\n",
    "# Calcular el F1-score\n",
    "f1 = f1_score(y_true_classes, y_pred_classes, average='weighted')\n",
    "print(f'F1-score: {f1}')\n",
    "\n",
    "# Calcular el accuracy\n",
    "accuracy = accuracy_score(y_true_classes, y_pred_classes)\n",
    "print(f'Accuracy: {accuracy}')\n",
    "\n",
    "# Generar el reporte de clasificación\n",
    "report = classification_report(y_true_classes, y_pred_classes, target_names=label_encoder.classes_)\n",
    "print(report)\n",
    "\n",
    "# Generar la curva ROC y el AUC para cada clase\n",
    "fpr = dict()\n",
    "tpr = dict()\n",
    "roc_auc = dict()\n",
    "for i in range(5):\n",
    "    fpr[i], tpr[i], _ = roc_curve(y_test[:, i], y_pred[:, i])\n",
    "    roc_auc[i] = auc(fpr[i], tpr[i])\n",
    "\n",
    "# Plotear todas las curvas ROC\n",
    "plt.figure()\n",
    "colors = ['aqua', 'darkorange', 'cornflowerblue', 'green', 'red']\n",
    "for i, color in zip(range(5), colors):\n",
    "    plt.plot(fpr[i], tpr[i], color=color, lw=2,\n",
    "             label=f'ROC curve (area = {roc_auc[i]:.2f}) for class {i}')\n",
    "plt.plot([0, 1], [0, 1], 'k--', lw=2)\n",
    "plt.xlim([0.0, 1.0]) # apuntar \n",
    "plt.ylim([0.0, 1.05])\n",
    "plt.xlabel('False Positive Rate')\n",
    "plt.ylabel('True Positive Rate')\n",
    "plt.title('Some extension of Receiver operating characteristic to multi-class')\n",
    "plt.legend(loc=\"lower right\")\n",
    "plt.show()"
   ]
  },
  {
   "cell_type": "code",
   "execution_count": null,
   "metadata": {},
   "outputs": [],
   "source": []
  }
 ],
 "metadata": {
  "kernelspec": {
   "display_name": "Python 3",
   "language": "python",
   "name": "python3"
  },
  "language_info": {
   "codemirror_mode": {
    "name": "ipython",
    "version": 3
   },
   "file_extension": ".py",
   "mimetype": "text/x-python",
   "name": "python",
   "nbconvert_exporter": "python",
   "pygments_lexer": "ipython3",
   "version": "3.11.8"
  }
 },
 "nbformat": 4,
 "nbformat_minor": 2
}
