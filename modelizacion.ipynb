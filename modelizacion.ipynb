{
 "cells": [
  {
   "cell_type": "markdown",
   "metadata": {},
   "source": [
    "# Fase de Modelización "
   ]
  },
  {
   "cell_type": "markdown",
   "metadata": {},
   "source": [
    "## Carga del modelo MovilNet"
   ]
  },
  {
   "cell_type": "markdown",
   "metadata": {},
   "source": [
    "En este primer punto vamos a cargar el modelo MovilNet para iniciar la fase de entrenamiento del modelo con los datos obtenidos en la fase de preanalisis y resolución. Luego probaremos una segunda parte con una CNN creada desde cero para contrastar resultados"
   ]
  },
  {
   "cell_type": "markdown",
   "metadata": {},
   "source": [
    "### 1. Importamos las librerias que necesitamos para instanciar el modelo "
   ]
  },
  {
   "cell_type": "code",
   "execution_count": 1,
   "metadata": {},
   "outputs": [],
   "source": [
    "%run imports.py\n",
    "from funciones import *"
   ]
  },
  {
   "cell_type": "code",
   "execution_count": 3,
   "metadata": {},
   "outputs": [
    {
     "data": {
      "text/html": [
       "<div>\n",
       "<style scoped>\n",
       "    .dataframe tbody tr th:only-of-type {\n",
       "        vertical-align: middle;\n",
       "    }\n",
       "\n",
       "    .dataframe tbody tr th {\n",
       "        vertical-align: top;\n",
       "    }\n",
       "\n",
       "    .dataframe thead th {\n",
       "        text-align: right;\n",
       "    }\n",
       "</style>\n",
       "<table border=\"1\" class=\"dataframe\">\n",
       "  <thead>\n",
       "    <tr style=\"text-align: right;\">\n",
       "      <th></th>\n",
       "      <th>photo_id</th>\n",
       "      <th>label</th>\n",
       "    </tr>\n",
       "  </thead>\n",
       "  <tbody>\n",
       "    <tr>\n",
       "      <th>0</th>\n",
       "      <td>vDEzOHKSOzGoA2Es7FuI_Q</td>\n",
       "      <td>outside</td>\n",
       "    </tr>\n",
       "    <tr>\n",
       "      <th>1</th>\n",
       "      <td>h3Yu055wITTBxDyn_9OJ7g</td>\n",
       "      <td>drink</td>\n",
       "    </tr>\n",
       "    <tr>\n",
       "      <th>2</th>\n",
       "      <td>SXUVCpXnFVOAupFAknNR_w</td>\n",
       "      <td>inside</td>\n",
       "    </tr>\n",
       "    <tr>\n",
       "      <th>3</th>\n",
       "      <td>SaflOiQyfFSdTTGNDGzw4Q</td>\n",
       "      <td>drink</td>\n",
       "    </tr>\n",
       "    <tr>\n",
       "      <th>4</th>\n",
       "      <td>kukOAeWgmWV4rZtryqBZzA</td>\n",
       "      <td>drink</td>\n",
       "    </tr>\n",
       "  </tbody>\n",
       "</table>\n",
       "</div>"
      ],
      "text/plain": [
       "                 photo_id    label\n",
       "0  vDEzOHKSOzGoA2Es7FuI_Q  outside\n",
       "1  h3Yu055wITTBxDyn_9OJ7g    drink\n",
       "2  SXUVCpXnFVOAupFAknNR_w   inside\n",
       "3  SaflOiQyfFSdTTGNDGzw4Q    drink\n",
       "4  kukOAeWgmWV4rZtryqBZzA    drink"
      ]
     },
     "execution_count": 3,
     "metadata": {},
     "output_type": "execute_result"
    }
   ],
   "source": [
    "df_model = pd.read_csv(\"output/df_homogenized.csv\")\n",
    "df_model.head()\n"
   ]
  },
  {
   "cell_type": "code",
   "execution_count": 4,
   "metadata": {},
   "outputs": [
    {
     "data": {
      "text/plain": [
       "(13325, 2)"
      ]
     },
     "execution_count": 4,
     "metadata": {},
     "output_type": "execute_result"
    }
   ],
   "source": [
    "df_model.shape"
   ]
  },
  {
   "cell_type": "code",
   "execution_count": 5,
   "metadata": {},
   "outputs": [
    {
     "name": "stderr",
     "output_type": "stream",
     "text": [
      "Creando rutas: 100%|██████████| 13325/13325 [00:31<00:00, 425.13it/s]\n",
      "Procesando rutas: 100%|██████████| 13325/13325 [00:08<00:00, 1551.59it/s]"
     ]
    },
    {
     "name": "stdout",
     "output_type": "stream",
     "text": [
      "13325 fotos correctas 0 fotos no leidas/invalidas\n"
     ]
    },
    {
     "name": "stderr",
     "output_type": "stream",
     "text": [
      "\n"
     ]
    }
   ],
   "source": [
    "df_model[\"path_files\"]= create_path(df_model)"
   ]
  },
  {
   "cell_type": "code",
   "execution_count": 6,
   "metadata": {},
   "outputs": [
    {
     "name": "stdout",
     "output_type": "stream",
     "text": [
      "=== RAM Usage ===\n",
      "Total RAM: 15.95 GB\n",
      "Available RAM: 6.35 GB\n",
      "Used RAM: 9.60 GB\n",
      "RAM Usage Percentage: 60.2%\n",
      "=================\n",
      "=== GPU 0 (NVIDIA GeForce GTX 1660) ===\n",
      "  Load: 32.0%\n",
      "  Free Memory: 4.72 GB\n",
      "  Used Memory: 1.11 GB\n",
      "  Total Memory: 6.00 GB\n",
      "  Temperature: 46.0 °C\n",
      "====================\n"
     ]
    }
   ],
   "source": [
    "from Recursos.monitor_resources import *\n",
    "print_ram_usage()\n",
    "print_gpu_usage()"
   ]
  },
  {
   "cell_type": "code",
   "execution_count": 7,
   "metadata": {},
   "outputs": [
    {
     "data": {
      "text/html": [
       "<div>\n",
       "<style scoped>\n",
       "    .dataframe tbody tr th:only-of-type {\n",
       "        vertical-align: middle;\n",
       "    }\n",
       "\n",
       "    .dataframe tbody tr th {\n",
       "        vertical-align: top;\n",
       "    }\n",
       "\n",
       "    .dataframe thead th {\n",
       "        text-align: right;\n",
       "    }\n",
       "</style>\n",
       "<table border=\"1\" class=\"dataframe\">\n",
       "  <thead>\n",
       "    <tr style=\"text-align: right;\">\n",
       "      <th></th>\n",
       "      <th>photo_id</th>\n",
       "      <th>path_files</th>\n",
       "      <th>label</th>\n",
       "    </tr>\n",
       "  </thead>\n",
       "  <tbody>\n",
       "    <tr>\n",
       "      <th>0</th>\n",
       "      <td>vDEzOHKSOzGoA2Es7FuI_Q</td>\n",
       "      <td>photos\\vDEzOHKSOzGoA2Es7FuI_Q.jpg</td>\n",
       "      <td>outside</td>\n",
       "    </tr>\n",
       "    <tr>\n",
       "      <th>1</th>\n",
       "      <td>h3Yu055wITTBxDyn_9OJ7g</td>\n",
       "      <td>photos\\h3Yu055wITTBxDyn_9OJ7g.jpg</td>\n",
       "      <td>drink</td>\n",
       "    </tr>\n",
       "    <tr>\n",
       "      <th>2</th>\n",
       "      <td>SXUVCpXnFVOAupFAknNR_w</td>\n",
       "      <td>photos\\SXUVCpXnFVOAupFAknNR_w.jpg</td>\n",
       "      <td>inside</td>\n",
       "    </tr>\n",
       "    <tr>\n",
       "      <th>3</th>\n",
       "      <td>SaflOiQyfFSdTTGNDGzw4Q</td>\n",
       "      <td>photos\\SaflOiQyfFSdTTGNDGzw4Q.jpg</td>\n",
       "      <td>drink</td>\n",
       "    </tr>\n",
       "    <tr>\n",
       "      <th>4</th>\n",
       "      <td>kukOAeWgmWV4rZtryqBZzA</td>\n",
       "      <td>photos\\kukOAeWgmWV4rZtryqBZzA.jpg</td>\n",
       "      <td>drink</td>\n",
       "    </tr>\n",
       "  </tbody>\n",
       "</table>\n",
       "</div>"
      ],
      "text/plain": [
       "                 photo_id                         path_files    label\n",
       "0  vDEzOHKSOzGoA2Es7FuI_Q  photos\\vDEzOHKSOzGoA2Es7FuI_Q.jpg  outside\n",
       "1  h3Yu055wITTBxDyn_9OJ7g  photos\\h3Yu055wITTBxDyn_9OJ7g.jpg    drink\n",
       "2  SXUVCpXnFVOAupFAknNR_w  photos\\SXUVCpXnFVOAupFAknNR_w.jpg   inside\n",
       "3  SaflOiQyfFSdTTGNDGzw4Q  photos\\SaflOiQyfFSdTTGNDGzw4Q.jpg    drink\n",
       "4  kukOAeWgmWV4rZtryqBZzA  photos\\kukOAeWgmWV4rZtryqBZzA.jpg    drink"
      ]
     },
     "execution_count": 7,
     "metadata": {},
     "output_type": "execute_result"
    }
   ],
   "source": [
    "df_model = df_model.reindex(columns=[\"photo_id\", \"path_files\", \"label\"])\n",
    "df_model.head()"
   ]
  },
  {
   "cell_type": "code",
   "execution_count": 8,
   "metadata": {},
   "outputs": [
    {
     "name": "stderr",
     "output_type": "stream",
     "text": [
      "Codificando imagenes: 13325it [01:49, 121.60it/s]\n"
     ]
    },
    {
     "name": "stdout",
     "output_type": "stream",
     "text": [
      "Shape of images: (13325, 244, 244, 3)\n",
      "Shape of labels encoded: (13325, 5)\n"
     ]
    }
   ],
   "source": [
    "# Cargado de Imagenes y Formateo a (n, 244, 244, 3)\n",
    "images, labels = image_label_load(df_model)\n",
    "\n",
    "# Codificar las etiquetas\n",
    "label_encoder = LabelEncoder()  # Instancia del encoder \n",
    "labels_encoded = label_encoder.fit_transform(labels)\n",
    "labels_encoded = to_categorical(labels_encoded, num_classes=5)  # Especificar 5 clases\n",
    " \n",
    "print(f\"Shape of images: {images.shape}\")\n",
    "print(f\"Shape of labels encoded: {labels_encoded.shape}\")\n"
   ]
  },
  {
   "cell_type": "code",
   "execution_count": 8,
   "metadata": {},
   "outputs": [
    {
     "name": "stderr",
     "output_type": "stream",
     "text": [
      "C:\\Users\\varel\\AppData\\Local\\Temp\\ipykernel_20960\\4158362402.py:2: UserWarning: `input_shape` is undefined or non-square, or `rows` is not in [96, 128, 160, 192, 224]. Weights for input shape (224, 224) will be loaded as the default.\n",
      "  base_model = MobileNetV2(weights='imagenet', include_top=False, input_shape=(244,244,3))\n"
     ]
    }
   ],
   "source": [
    "# Carga del MobileNetV2\n",
    "base_model = MobileNetV2(weights='imagenet', include_top=False, input_shape=(244,244,3))\n",
    "\n",
    "# Congelar capas base del modelo -> Conserva los pesos establecidos por el aprendizaje de imagenet\n",
    "base_model.trainable = False \n",
    "\n",
    "#Añadimos capas superiores para ajustar el modelo a nuestro caso concreto: \n",
    "x = base_model.output \n",
    "x = GlobalAveragePooling2D()(x) \n",
    "x = Dense(128, activation='relu')(x)\n",
    "x = Dropout(0.5)(x)  # Capa Dropout\n",
    "predictions = Dense(5, activation='softmax')(x)  # Ajuste para 5 clases (menu, outside, drink, inside, food)\n",
    "# Instancia del MobileNetV2 + capas superiores \n",
    "model = Model(inputs=base_model.input, outputs=predictions)\n",
    "\n",
    "# Compilacion del modelo en conjunto: \n",
    "model.compile(optimizer ='adam', loss = 'categorical_crossentropy', metrics = ['accuracy'])\n"
   ]
  },
  {
   "cell_type": "code",
   "execution_count": 9,
   "metadata": {},
   "outputs": [
    {
     "data": {
      "text/plain": [
       "\"\\n    rotation_range=20,\\n    width_shift_range=0.2,\\n    height_shift_range=0.2,\\n    shear_range=0.2,\\n    zoom_range=0.2,\\n    horizontal_flip=True,\\n    fill_mode='nearest'\\n\""
      ]
     },
     "execution_count": 9,
     "metadata": {},
     "output_type": "execute_result"
    }
   ],
   "source": [
    "# Train/Test split -> Division  de conjuntos de datos en entrenamiento y validacion \n",
    "X_train, X_test, y_train, y_test = train_test_split(images, labels_encoded, test_size=0.25, random_state=41)\n",
    "# Data Augmentation --> para ganar mas variedad de datos a la hora de entrenar \n",
    "\"\"\"\n",
    "    rotation_range=20,\n",
    "    width_shift_range=0.2,\n",
    "    height_shift_range=0.2,\n",
    "    shear_range=0.2,\n",
    "    zoom_range=0.2,\n",
    "    horizontal_flip=True,\n",
    "    fill_mode='nearest'\n",
    "\"\"\"\n",
    "                ### HIPER-PARAMETROS DE DATA AUGMENTATION PARA ENTRENAMIENTO ###\n",
    "# datagen = ImageDataGenerator()\n",
    "# Ajustamos el generador de datos al conjunto de entrenamiento \n",
    "# datagen.fit(X_train)"
   ]
  },
  {
   "cell_type": "code",
   "execution_count": 10,
   "metadata": {},
   "outputs": [
    {
     "name": "stdout",
     "output_type": "stream",
     "text": [
      "Epoch 1/10\n",
      "\u001b[1m312/312\u001b[0m \u001b[32m━━━━━━━━━━━━━━━━━━━━\u001b[0m\u001b[37m\u001b[0m \u001b[1m638s\u001b[0m 2s/step - accuracy: 0.7872 - loss: 0.5814 - val_accuracy: 0.7989 - val_loss: 0.5451\n",
      "Epoch 2/10\n",
      "\u001b[1m  1/312\u001b[0m \u001b[37m━━━━━━━━━━━━━━━━━━━━\u001b[0m \u001b[1m2:07\u001b[0m 409ms/step - accuracy: 0.7778 - loss: 0.5135"
     ]
    },
    {
     "name": "stderr",
     "output_type": "stream",
     "text": [
      "c:\\Users\\varel\\AppData\\Local\\Programs\\Python\\Python311\\Lib\\contextlib.py:158: UserWarning: Your input ran out of data; interrupting training. Make sure that your dataset or generator can generate at least `steps_per_epoch * epochs` batches. You may need to use the `.repeat()` function when building your dataset.\n",
      "  self.gen.throw(typ, value, traceback)\n"
     ]
    },
    {
     "name": "stdout",
     "output_type": "stream",
     "text": [
      "\u001b[1m312/312\u001b[0m \u001b[32m━━━━━━━━━━━━━━━━━━━━\u001b[0m\u001b[37m\u001b[0m \u001b[1m149s\u001b[0m 477ms/step - accuracy: 0.7778 - loss: 0.5135 - val_accuracy: 0.7992 - val_loss: 0.5439\n",
      "Epoch 3/10\n",
      "\u001b[1m312/312\u001b[0m \u001b[32m━━━━━━━━━━━━━━━━━━━━\u001b[0m\u001b[37m\u001b[0m \u001b[1m609s\u001b[0m 2s/step - accuracy: 0.7978 - loss: 0.5644 - val_accuracy: 0.8016 - val_loss: 0.5409\n",
      "Epoch 4/10\n",
      "\u001b[1m312/312\u001b[0m \u001b[32m━━━━━━━━━━━━━━━━━━━━\u001b[0m\u001b[37m\u001b[0m \u001b[1m155s\u001b[0m 495ms/step - accuracy: 0.7778 - loss: 0.9867 - val_accuracy: 0.8031 - val_loss: 0.5397\n",
      "Epoch 5/10\n",
      "\u001b[1m312/312\u001b[0m \u001b[32m━━━━━━━━━━━━━━━━━━━━\u001b[0m\u001b[37m\u001b[0m \u001b[1m580s\u001b[0m 2s/step - accuracy: 0.8080 - loss: 0.5316 - val_accuracy: 0.8040 - val_loss: 0.5248\n",
      "Epoch 6/10\n",
      "\u001b[1m312/312\u001b[0m \u001b[32m━━━━━━━━━━━━━━━━━━━━\u001b[0m\u001b[37m\u001b[0m \u001b[1m146s\u001b[0m 469ms/step - accuracy: 0.6667 - loss: 0.7579 - val_accuracy: 0.8070 - val_loss: 0.5227\n",
      "Epoch 7/10\n",
      "\u001b[1m312/312\u001b[0m \u001b[32m━━━━━━━━━━━━━━━━━━━━\u001b[0m\u001b[37m\u001b[0m \u001b[1m575s\u001b[0m 2s/step - accuracy: 0.8079 - loss: 0.5147 - val_accuracy: 0.7998 - val_loss: 0.5301\n",
      "Epoch 8/10\n",
      "\u001b[1m312/312\u001b[0m \u001b[32m━━━━━━━━━━━━━━━━━━━━\u001b[0m\u001b[37m\u001b[0m \u001b[1m145s\u001b[0m 466ms/step - accuracy: 0.7778 - loss: 0.6482 - val_accuracy: 0.7998 - val_loss: 0.5330\n",
      "Epoch 9/10\n",
      "\u001b[1m312/312\u001b[0m \u001b[32m━━━━━━━━━━━━━━━━━━━━\u001b[0m\u001b[37m\u001b[0m \u001b[1m573s\u001b[0m 2s/step - accuracy: 0.8102 - loss: 0.5274 - val_accuracy: 0.8037 - val_loss: 0.5393\n",
      "Epoch 10/10\n",
      "\u001b[1m312/312\u001b[0m \u001b[32m━━━━━━━━━━━━━━━━━━━━\u001b[0m\u001b[37m\u001b[0m \u001b[1m146s\u001b[0m 468ms/step - accuracy: 0.7778 - loss: 0.4541 - val_accuracy: 0.8043 - val_loss: 0.5466\n"
     ]
    }
   ],
   "source": [
    "# Numero de pasos por epoch\n",
    "batch_size = 32\n",
    "steps_per_epoch = len(X_train) // batch_size\n",
    "# Entrenar el modelo\n",
    "history = model.fit(X_train, y_train, batch_size=batch_size,\n",
    "                    steps_per_epoch=steps_per_epoch,\n",
    "                    epochs=10,\n",
    "                    validation_data=(X_test, y_test))"
   ]
  },
  {
   "cell_type": "code",
   "execution_count": 11,
   "metadata": {},
   "outputs": [],
   "source": [
    "model.save(\"Modelo_dropout_13k_entrenado.keras\")"
   ]
  },
  {
   "cell_type": "code",
   "execution_count": 12,
   "metadata": {},
   "outputs": [
    {
     "name": "stdout",
     "output_type": "stream",
     "text": [
      "\u001b[1m105/105\u001b[0m \u001b[32m━━━━━━━━━━━━━━━━━━━━\u001b[0m\u001b[37m\u001b[0m \u001b[1m152s\u001b[0m 1s/step\n",
      "F1-score: 0.79291402734911\n",
      "Accuracy: 0.7968187274909964\n",
      "              precision    recall  f1-score   support\n",
      "\n",
      "       drink       0.77      0.63      0.69       509\n",
      "        food       0.75      0.85      0.79       464\n",
      "      inside       0.82      0.86      0.84      1368\n",
      "        menu       0.87      0.92      0.89       502\n",
      "     outside       0.73      0.61      0.66       489\n",
      "\n",
      "    accuracy                           0.80      3332\n",
      "   macro avg       0.79      0.77      0.78      3332\n",
      "weighted avg       0.79      0.80      0.79      3332\n",
      "\n"
     ]
    },
    {
     "data": {
      "image/png": "[encoded data removed]",
      "text/plain": [
       "<Figure size 640x480 with 1 Axes>"
      ]
     },
     "metadata": {},
     "output_type": "display_data"
    }
   ],
   "source": [
    "model = load_model(\"Streamlit/Modelo_dropout_13k_entrenado.keras\")\n",
    "\n",
    "# Predicciones en el conjunto de prueba\n",
    "y_pred = model.predict(X_test)\n",
    "y_pred_classes = np.argmax(y_pred, axis=1)\n",
    "y_true_classes = np.argmax(y_test, axis=1)\n",
    "\n",
    "\n",
    "# Calcular el F1-score\n",
    "f1 = f1_score(y_true_classes, y_pred_classes, average='weighted')\n",
    "print(f'F1-score: {f1}')\n",
    "\n",
    "# Calcular el accuracy\n",
    "accuracy = accuracy_score(y_true_classes, y_pred_classes)\n",
    "print(f'Accuracy: {accuracy}')\n",
    "\n",
    "# Generar el reporte de clasificación\n",
    "report = classification_report(y_true_classes, y_pred_classes, target_names=label_encoder.classes_)\n",
    "print(report)\n",
    "\n",
    "# Generar la curva ROC y el AUC para cada clase\n",
    "fpr = dict()\n",
    "tpr = dict()\n",
    "roc_auc = dict()\n",
    "for i in range(5):\n",
    "    fpr[i], tpr[i], _ = roc_curve(y_test[:, i], y_pred[:, i])\n",
    "    roc_auc[i] = auc(fpr[i], tpr[i])\n",
    "\n",
    "# Plotear todas las curvas ROC\n",
    "plt.figure()\n",
    "colors = ['aqua', 'darkorange', 'cornflowerblue', 'green', 'red']\n",
    "for i, color in zip(range(5), colors):\n",
    "    plt.plot(fpr[i], tpr[i], color=color, lw=2,\n",
    "             label=f'ROC curve (area = {roc_auc[i]:.2f}) for class {i}')\n",
    "plt.plot([0, 1], [0, 1], 'k--', lw=2)\n",
    "plt.xlim([0.0, 1.0]) # apuntar \n",
    "plt.ylim([0.0, 1.05])\n",
    "plt.xlabel('False Positive Rate')\n",
    "plt.ylabel('True Positive Rate')\n",
    "plt.title('Some extension of Receiver operating characteristic to multi-class')\n",
    "plt.legend(loc=\"lower right\")\n",
    "plt.show()"
   ]
  }
 ],
 "metadata": {
  "kernelspec": {
   "display_name": "Python 3",
   "language": "python",
   "name": "python3"
  },
  "language_info": {
   "codemirror_mode": {
    "name": "ipython",
    "version": 3
   },
   "file_extension": ".py",
   "mimetype": "text/x-python",
   "name": "python",
   "nbconvert_exporter": "python",
   "pygments_lexer": "ipython3",
   "version": "3.11.8"
  }
 },
 "nbformat": 4,
 "nbformat_minor": 2
}
